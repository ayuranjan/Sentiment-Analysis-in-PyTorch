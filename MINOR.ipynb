{
 "cells": [
  {
   "cell_type": "code",
   "execution_count": 4,
   "metadata": {},
   "outputs": [],
   "source": [
    "import torch\n",
    "from torchtext import data\n",
    "TEXT = data.Field(tokenize = 'spacy',batch_first = True)\n",
    "LABEL = data.LabelField(dtype = torch.float)"
   ]
  },
  {
   "cell_type": "code",
   "execution_count": 5,
   "metadata": {},
   "outputs": [],
   "source": [
    "from torchtext import datasets\n",
    "train_data, test_data = datasets.IMDB.splits(\n",
    "    TEXT, LABEL,\n",
    "    root='/Users/ayushranjan/Desktop/Sentiment/data' \n",
    "    ,test='/Users/ayushranjan/Desktop/Sentiment/data/imdb/aclImdb/test', \n",
    "    train='/Users/ayushranjan/Desktop/Sentiment/data/imdb/aclImdb/train'\n",
    "    )"
   ]
  },
  {
   "cell_type": "code",
   "execution_count": 7,
   "metadata": {},
   "outputs": [],
   "source": [
    "import random\n",
    "seed = 777\n",
    "torch.manual_seed(seed)\n",
    "test_data, valid_data = test_data.split(random_state = random.seed(seed))"
   ]
  },
  {
   "cell_type": "code",
   "execution_count": 13,
   "metadata": {},
   "outputs": [],
   "source": [
    "max_words = 50000 \n",
    "TEXT.build_vocab(train_data, max_size = max_words)\n",
    "LABEL.build_vocab(train_data)"
   ]
  },
  {
   "cell_type": "code",
   "execution_count": 8,
   "metadata": {},
   "outputs": [],
   "source": [
    "train_iterator, valid_iterator, test_iterator = data.BucketIterator.splits(\n",
    "    (train_data, valid_data, test_data), \n",
    "    batch_size = 64)"
   ]
  },
  {
   "cell_type": "code",
   "execution_count": 14,
   "metadata": {},
   "outputs": [],
   "source": [
    "import torch.nn as nn\n",
    "import torch.nn.functional as F\n",
    "\n",
    "class CNN(nn.Module):\n",
    "    def __init__(self, vocab_size, embedding_dim, pad_idx):\n",
    "        super().__init__()\n",
    "        self.embedding = nn.Embedding(vocab_size, embedding_dim, padding_idx = pad_idx)\n",
    "        self.conv_0 = nn.Conv2d(in_channels = 1, out_channels = 100,  kernel_size = (2, embedding_dim))\n",
    "        self.conv_1 = nn.Conv2d(in_channels = 1, out_channels = 100, kernel_size = (3, embedding_dim))\n",
    "        self.conv_2 = nn.Conv2d(in_channels = 1, out_channels = 100, kernel_size = (4, embedding_dim))\n",
    "        self.conv_3 = nn.Conv2d(in_channels = 1,out_channels = 100, kernel_size = (5, embedding_dim))\n",
    "        self.fc = nn.Linear(4 * 100, 1) \n",
    "        self.dropout = nn.Dropout(0.5)\n",
    "        \n",
    "        \n",
    "    def forward(self, text):\n",
    "        \n",
    "        embedded = self.embedding(text)\n",
    "        embedded = embedded.unsqueeze(1)\n",
    "        \n",
    "        op = self.conv_0(embedded)\n",
    "        conved_0 = F.relu(op.squeeze(3))\n",
    "        pooled_0 = F.max_pool1d(conved_0, conved_0.shape[2]).squeeze(2)\n",
    "      \n",
    "        op2 = self.conv_1(embedded)\n",
    "        conved_1 = F.relu(op2.squeeze(3))\n",
    "        pooled_1 = F.max_pool1d(conved_1, conved_1.shape[2]).squeeze(2)\n",
    "    \n",
    "        op3 = self.conv_2(embedded)\n",
    "        conved_2 = F.relu(op3.squeeze(3))\n",
    "        pooled_2 = F.max_pool1d(conved_2, conved_2.shape[2]).squeeze(2)    \n",
    "        \n",
    "        op4 = self.conv_3(embedded)\n",
    "        conved_3 = F.relu(op4.squeeze(3))\n",
    "        pooled_3 = F.max_pool1d(conved_3, conved_3.shape[2]).squeeze(2)    \n",
    "        \n",
    "        cat = self.dropout(torch.cat((pooled_0, pooled_1, pooled_2,pooled_3), dim = 1))\n",
    "        \n",
    "        output = self.fc(cat)\n",
    "        return output"
   ]
  },
  {
   "cell_type": "code",
   "execution_count": 15,
   "metadata": {},
   "outputs": [],
   "source": [
    "vocab_size = len(TEXT.vocab)\n",
    "EMBEDDING_DIM = 100\n",
    "PAD_IDX = TEXT.vocab.stoi[TEXT.pad_token]\n",
    "\n",
    "model = CNN(vocab_size, EMBEDDING_DIM,PAD_IDX)"
   ]
  },
  {
   "cell_type": "code",
   "execution_count": 16,
   "metadata": {},
   "outputs": [],
   "source": [
    "import torch.optim as optim\n",
    "optimizer = optim.Adam(model.parameters())\n",
    "loss_fun = nn.BCEWithLogitsLoss()"
   ]
  },
  {
   "cell_type": "code",
   "execution_count": 23,
   "metadata": {},
   "outputs": [],
   "source": [
    "def binary_accuracy(preds, y):\n",
    "    rounded_preds = torch.round(torch.sigmoid(preds))\n",
    "    correct = (rounded_preds == y).float() \n",
    "    acc = (correct.sum() / len(correct))*100\n",
    "    return acc"
   ]
  },
  {
   "cell_type": "code",
   "execution_count": 24,
   "metadata": {},
   "outputs": [],
   "source": [
    "def train(model, iterator, optimizer, loss_fun):\n",
    "    \n",
    "    epoch_loss = 0\n",
    "    epoch_acc = 0\n",
    "    model.train()\n",
    "    for batch in iterator:\n",
    "        \n",
    "        optimizer.zero_grad()\n",
    "        predictions = model(batch.text).squeeze(1)\n",
    "        loss = loss_fun(predictions, batch.label)\n",
    "        acc = binary_accuracy(predictions, batch.label)\n",
    "        loss.backward()\n",
    "        optimizer.step()\n",
    "        epoch_loss += loss.item()\n",
    "        epoch_acc += acc.item()\n",
    "        \n",
    "    return epoch_loss / len(iterator), epoch_acc / len(iterator)"
   ]
  },
  {
   "cell_type": "code",
   "execution_count": 25,
   "metadata": {},
   "outputs": [],
   "source": [
    "def evaluate(model, iterator, loss_fun):\n",
    "    \n",
    "    epoch_loss = 0\n",
    "    epoch_acc = 0\n",
    "    model.eval()\n",
    "    with torch.no_grad(): \n",
    "        for batch in iterator:\n",
    "            predictions = model(batch.text).squeeze(1)\n",
    "            loss = loss_fun(predictions, batch.label)\n",
    "            acc = binary_accuracy(predictions, batch.label)\n",
    "            epoch_loss += loss.item()\n",
    "            epoch_acc += acc.item() \n",
    "        \n",
    "    return epoch_loss / len(iterator), epoch_acc / len(iterator)"
   ]
  },
  {
   "cell_type": "code",
   "execution_count": 26,
   "metadata": {},
   "outputs": [],
   "source": [
    "import time\n",
    "\n",
    "def epoch_time(start_time, end_time):\n",
    "    total_time = end_time - start_time\n",
    "    total_mins = int(total_time / 60)\n",
    "    total_secs = int(total_time - (total_mins * 60))\n",
    "    return total_mins, total_secs"
   ]
  },
  {
   "cell_type": "code",
   "execution_count": 27,
   "metadata": {},
   "outputs": [
    {
     "name": "stdout",
     "output_type": "stream",
     "text": [
      "epoch :1\n",
      "Time : 23 mins 5 secs\n",
      "Training loss : 0.62\n",
      "Validation loss : 0.45\n",
      "TRAINING ACCURACY : 65.76\n",
      "VALIDATION  ACCURACY : 78.49\n",
      "**********************************************************************\n",
      "epoch :2\n",
      "Time : 22 mins 54 secs\n",
      "Training loss : 0.47\n",
      "Validation loss : 0.38\n",
      "TRAINING ACCURACY : 77.64\n",
      "VALIDATION  ACCURACY : 83.57\n",
      "**********************************************************************\n",
      "epoch :3\n",
      "Time : 23 mins 2 secs\n",
      "Training loss : 0.41\n",
      "Validation loss : 0.34\n",
      "TRAINING ACCURACY : 81.63\n",
      "VALIDATION  ACCURACY : 85.85\n",
      "**********************************************************************\n",
      "epoch :4\n",
      "Time : 23 mins 0 secs\n",
      "Training loss : 0.35\n",
      "Validation loss : 0.33\n",
      "TRAINING ACCURACY : 84.57\n",
      "VALIDATION  ACCURACY : 85.71\n",
      "**********************************************************************\n",
      "epoch :5\n",
      "Time : 23 mins 6 secs\n",
      "Training loss : 0.29\n",
      "Validation loss : 0.28\n",
      "TRAINING ACCURACY : 87.54\n",
      "VALIDATION  ACCURACY : 88.68\n",
      "**********************************************************************\n"
     ]
    }
   ],
   "source": [
    "n = 5\n",
    "best_valid_loss = float('inf')\n",
    "for epoch in range(n):\n",
    "    start_time = time.time()\n",
    "    \n",
    "    train_loss, train_acc = train(model, train_iterator, optimizer, loss_fun)\n",
    "    valid_loss, valid_acc = evaluate(model, valid_iterator, loss_fun)\n",
    "    \n",
    "    end_time = time.time()\n",
    "    epoch_mins, epoch_secs = epoch_time(start_time, end_time)\n",
    "\n",
    "    if valid_loss < best_valid_loss:\n",
    "        best_valid_loss = valid_loss\n",
    "        torch.save(model.state_dict(), 'model_minor_FINAL.pt')\n",
    "    print(\"epoch :\" + str(epoch + 1 ))\n",
    "    print(\"Time : \" + str(epoch_mins ) + \" mins \" + str(epoch_secs) + \" secs\")\n",
    "    print(\"Training loss : \" + \"{:.2f}\".format(train_loss))\n",
    "    print(\"Validation loss : \"  + \"{:.2f}\".format(valid_loss))\n",
    "    print(\"TRAINING ACCURACY : \" + \"{:.2f}\".format(train_acc))\n",
    "    print(\"VALIDATION  ACCURACY : \" + \"{:.2f}\".format(valid_acc))\n",
    "    print(\"**********************************************************************\")"
   ]
  },
  {
   "cell_type": "code",
   "execution_count": 29,
   "metadata": {},
   "outputs": [
    {
     "name": "stdout",
     "output_type": "stream",
     "text": [
      "Test loss : 0.29\n",
      "TEST ACCURACY :87.39\n"
     ]
    }
   ],
   "source": [
    "model.load_state_dict(torch.load('model_minor_FINAL.pt'))\n",
    "\n",
    "test_loss, test_acc = evaluate(model, test_iterator, loss_fun)\n",
    "\n",
    "print(\"Test loss : \"  + \"{:.2f}\".format(test_loss))\n",
    "print(\"TEST ACCURACY :\" + \"{:.2f}\".format(test_acc))"
   ]
  },
  {
   "cell_type": "code",
   "execution_count": 28,
   "metadata": {},
   "outputs": [],
   "source": [
    "import spacy\n",
    "nlp = spacy.load('en')\n",
    "\n",
    "def predict_sentiment(model, sentence, min_len = 5):\n",
    "    model.eval()\n",
    "    tokenized = [tok.text for tok in nlp.tokenizer(sentence)]\n",
    "    if len(tokenized) < min_len:\n",
    "        tokenized += ['<pad>'] * (min_len - len(tokenized))\n",
    "    indexed = [TEXT.vocab.stoi[t] for t in tokenized]\n",
    "    text = torch.LongTensor(indexed)\n",
    "    text = text.unsqueeze(0)\n",
    "    prediction = torch.sigmoid(model(text))\n",
    "    return prediction.item()"
   ]
  },
  {
   "cell_type": "code",
   "execution_count": 30,
   "metadata": {},
   "outputs": [
    {
     "name": "stdout",
     "output_type": "stream",
     "text": [
      "Negative\n"
     ]
    }
   ],
   "source": [
    "if (round(predict_sentiment(model, \"This film was a disaster\") ) == 0) : \n",
    "    print(\"Negative\")\n",
    "else :\n",
    "    print(\"Positive\")"
   ]
  },
  {
   "cell_type": "code",
   "execution_count": 31,
   "metadata": {},
   "outputs": [
    {
     "name": "stdout",
     "output_type": "stream",
     "text": [
      "Positive\n"
     ]
    }
   ],
   "source": [
    "if (round(predict_sentiment(model, \"This film was a good\") ) == 0) : \n",
    "    print(\"Negative\")\n",
    "else :\n",
    "    print(\"Positive\")"
   ]
  },
  {
   "cell_type": "code",
   "execution_count": null,
   "metadata": {},
   "outputs": [],
   "source": []
  }
 ],
 "metadata": {
  "kernelspec": {
   "display_name": "Python 3",
   "language": "python",
   "name": "python3"
  },
  "language_info": {
   "codemirror_mode": {
    "name": "ipython",
    "version": 3
   },
   "file_extension": ".py",
   "mimetype": "text/x-python",
   "name": "python",
   "nbconvert_exporter": "python",
   "pygments_lexer": "ipython3",
   "version": "3.6.5"
  }
 },
 "nbformat": 4,
 "nbformat_minor": 2
}
